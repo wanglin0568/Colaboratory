{
  "nbformat": 4,
  "nbformat_minor": 0,
  "metadata": {
    "colab": {
      "name": "Untitled0.ipynb",
      "provenance": [],
      "collapsed_sections": [],
      "authorship_tag": "ABX9TyO2w/dap0dlk3eNOJA5EOR0",
      "include_colab_link": true
    },
    "kernelspec": {
      "name": "python3",
      "display_name": "Python 3"
    }
  },
  "cells": [
    {
      "cell_type": "markdown",
      "metadata": {
        "id": "view-in-github",
        "colab_type": "text"
      },
      "source": [
        "<a href=\"https://colab.research.google.com/github/wanglin0568/Colaboratory/blob/master/test.ipynb\" target=\"_parent\"><img src=\"https://colab.research.google.com/assets/colab-badge.svg\" alt=\"Open In Colab\"/></a>"
      ]
    },
    {
      "cell_type": "code",
      "metadata": {
        "id": "NzPXXtss_wJv",
        "colab_type": "code",
        "colab": {
          "base_uri": "https://localhost:8080/",
          "height": 34
        },
        "outputId": "f3987f2c-b4a6-49cc-efc3-0e2ac7b9df41"
      },
      "source": [
        "l=[1,2,'hello','hub']\n",
        "l[3]=3\n",
        "print(l)"
      ],
      "execution_count": 1,
      "outputs": [
        {
          "output_type": "stream",
          "text": [
            "[1, 2, 'hello', 3]\n"
          ],
          "name": "stdout"
        }
      ]
    },
    {
      "cell_type": "code",
      "metadata": {
        "id": "s3RTpJMyBFyB",
        "colab_type": "code",
        "colab": {
          "base_uri": "https://localhost:8080/",
          "height": 51
        },
        "outputId": "1c5a6171-4253-4cec-b161-f0594fe0709c"
      },
      "source": [
        "profit=int(input((\"show me the money\")))\n",
        "bonus=0\n",
        "thresholds=[100000,100000,200000,200000,400000]\n",
        "rates=[0.1,0.075,0.05,0.03,0.015,0.01]\n",
        "for i in range(len(thresholds)):\n",
        "    if profit<=thresholds[i]:\n",
        "        bonus+=profit*rates[i]\n",
        "        profit=0\n",
        "        break\n",
        "    else:\n",
        "        bonus+=thresholds[i]*rates[i]\n",
        "        profit-=thresholds[i]\n",
        "bonus+=profit*rates[-1]\n",
        "print(bonus)"
      ],
      "execution_count": 3,
      "outputs": [
        {
          "output_type": "stream",
          "text": [
            "show me the money100000000\n",
            "1029500.0\n"
          ],
          "name": "stdout"
        }
      ]
    }
  ]
}